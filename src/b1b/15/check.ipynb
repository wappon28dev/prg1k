{
 "cells": [
  {
   "cell_type": "code",
   "execution_count": 19,
   "metadata": {},
   "outputs": [],
   "source": [
    "pwd = %pwd"
   ]
  },
  {
   "cell_type": "code",
   "execution_count": 20,
   "metadata": {},
   "outputs": [],
   "source": [
    "from dataclasses import dataclass\n",
    "import csv\n",
    "from typing import Sequence\n",
    "from pathlib import Path\n",
    "\n",
    "\n",
    "@dataclass\n",
    "class Trial:\n",
    "    speed: int\n",
    "    distance: int\n",
    "\n",
    "    @classmethod\n",
    "    def from_seq(cls, seq: Sequence[str]):\n",
    "        speed, distance = seq\n",
    "        return cls(int(speed), int(distance))\n",
    "\n",
    "\n",
    "trials: list[Trial] = []\n",
    "\n",
    "with open(Path(pwd) / \"cars.csv\") as f:\n",
    "    reader = csv.reader(f)\n",
    "    trials: list[Trial] = [d for d in map(Trial.from_seq, reader)]\n"
   ]
  },
  {
   "cell_type": "code",
   "execution_count": 21,
   "metadata": {},
   "outputs": [
    {
     "name": "stdout",
     "output_type": "stream",
     "text": [
      "Q4.\n",
      "\n",
      "speedの最小値: 4 [mph]\n",
      "speedの最大値: 25 [mph]\n",
      "distanceの最小値: 2 [feet]\n",
      "distanceの最大値: 120 [feet]\n",
      "      \n",
      "s_min=4\n",
      "s_max=25\n",
      "d_min=2\n",
      "d_max=120\n"
     ]
    }
   ],
   "source": [
    "print(\"Q4.\")\n",
    "\n",
    "s_min = min([t.speed for t in trials])\n",
    "s_max = max([t.speed for t in trials])\n",
    "d_min = min([t.distance for t in trials])\n",
    "d_max = max([t.distance for t in trials])\n",
    "\n",
    "print(\"\"\"\n",
    "speedの最小値: 4 [mph]\n",
    "speedの最大値: 25 [mph]\n",
    "distanceの最小値: 2 [feet]\n",
    "distanceの最大値: 120 [feet]\n",
    "      \"\"\")\n",
    "print(f\"{s_min=}\\n{s_max=}\\n{d_min=}\\n{d_max=}\")"
   ]
  },
  {
   "cell_type": "code",
   "execution_count": 22,
   "metadata": {},
   "outputs": [
    {
     "name": "stdout",
     "output_type": "stream",
     "text": [
      "Q5.\n",
      "\n",
      "(C) [L01] 誤差: -6\n",
      "(C) [L02] 誤差: 2\n",
      "(C) [L03] 誤差: -10\n",
      "...\n",
      "\n",
      "err: -6\n",
      "err: 2\n",
      "err: -10\n",
      "err: 8\n",
      "err: 0\n",
      "err: -8\n",
      "err: -2\n",
      "err: 6\n",
      "err: 14\n",
      "err: -5\n",
      "err: 6\n",
      "err: -10\n",
      "err: -4\n",
      "err: 0\n",
      "err: 4\n",
      "err: 0\n",
      "err: 8\n",
      "err: 8\n",
      "err: 20\n",
      "err: -2\n",
      "err: 8\n",
      "err: 32\n",
      "err: 52\n",
      "err: -10\n",
      "err: -4\n",
      "err: 24\n",
      "err: 0\n",
      "err: 8\n",
      "err: -2\n",
      "err: 6\n",
      "err: 16\n",
      "err: 6\n",
      "err: 20\n",
      "err: 40\n",
      "err: 48\n",
      "err: -2\n",
      "err: 8\n",
      "err: 30\n",
      "err: -8\n",
      "err: 8\n",
      "err: 12\n",
      "err: 16\n",
      "err: 24\n",
      "err: 22\n",
      "err: 8\n",
      "err: 22\n",
      "err: 44\n",
      "err: 45\n",
      "err: 72\n",
      "err: 35\n"
     ]
    }
   ],
   "source": [
    "print(\"Q5.\")\n",
    "print(\"\"\"\n",
    "(C) [L01] 誤差: -6\n",
    "(C) [L02] 誤差: 2\n",
    "(C) [L03] 誤差: -10\n",
    "...\n",
    "\"\"\")\n",
    "\n",
    "d_pred = map(lambda t: 2 * t.speed, trials)\n",
    "for t, d in zip(trials, d_pred):\n",
    "    print(f\"err: {t.distance - d}\")\n"
   ]
  },
  {
   "cell_type": "code",
   "execution_count": 23,
   "metadata": {},
   "outputs": [
    {
     "name": "stdout",
     "output_type": "stream",
     "text": [
      "Q6.\n",
      "MSE (C): 477.740000\n",
      "MSE (P): 477.74\n"
     ]
    }
   ],
   "source": [
    "from sklearn.metrics import mean_squared_error\n",
    "\n",
    "print(\"Q6.\")\n",
    "\n",
    "d_pred = map(lambda t: 2 * t.speed, trials)\n",
    "mse = mean_squared_error(list(map(lambda t: t.distance, trials)), list(d_pred))\n",
    "\n",
    "print(\"MSE (C): 477.740000\")\n",
    "print(f\"MSE (P): {mse}\")"
   ]
  },
  {
   "cell_type": "code",
   "execution_count": 24,
   "metadata": {},
   "outputs": [
    {
     "name": "stdout",
     "output_type": "stream",
     "text": [
      "Q7.\n",
      "slope (C): 2.909132\n",
      "slope (P): 2.909132143937103\n"
     ]
    }
   ],
   "source": [
    "print(\"Q7.\")\n",
    "\n",
    "x = list([t.speed for t in trials])\n",
    "y = list([t.distance for t in trials])\n",
    "\n",
    "numer: float = 0\n",
    "denom: float = 0\n",
    "\n",
    "for x_i, y_i in zip(x, y):\n",
    "    numer += x_i * y_i\n",
    "    denom += x_i**2\n",
    "\n",
    "slope = numer / denom\n",
    "\n",
    "print(\"slope (C): 2.909132\")\n",
    "print(f\"slope (P): {slope}\")\n"
   ]
  },
  {
   "cell_type": "code",
   "execution_count": 25,
   "metadata": {},
   "outputs": [
    {
     "name": "stdout",
     "output_type": "stream",
     "text": [
      "Q8.\n",
      "MAE (C): 259.040000\n",
      "MAE (P): 259.07553674024797\n"
     ]
    }
   ],
   "source": [
    "from sklearn.metrics import mean_squared_error\n",
    "\n",
    "print(\"Q8.\")\n",
    "\n",
    "d_pred = map(lambda t: slope * t.speed, trials)\n",
    "mse = mean_squared_error(list(map(lambda t: t.distance, trials)), list(d_pred))\n",
    "\n",
    "print(\"MAE (C): 259.040000\")\n",
    "print(f\"MAE (P): {mse}\")"
   ]
  }
 ],
 "metadata": {
  "kernelspec": {
   "display_name": ".venv",
   "language": "python",
   "name": "python3"
  },
  "language_info": {
   "codemirror_mode": {
    "name": "ipython",
    "version": 3
   },
   "file_extension": ".py",
   "mimetype": "text/x-python",
   "name": "python",
   "nbconvert_exporter": "python",
   "pygments_lexer": "ipython3",
   "version": "3.12.3"
  }
 },
 "nbformat": 4,
 "nbformat_minor": 2
}
